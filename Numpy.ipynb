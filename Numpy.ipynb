{
  "nbformat": 4,
  "nbformat_minor": 0,
  "metadata": {
    "colab": {
      "provenance": []
    },
    "kernelspec": {
      "name": "python3",
      "display_name": "Python 3"
    },
    "language_info": {
      "name": "python"
    }
  },
  "cells": [
    {
      "cell_type": "code",
      "execution_count": null,
      "metadata": {
        "id": "kwVPhszJAahV"
      },
      "outputs": [],
      "source": [
        "#THEORETICAL QUESTIONS"
      ]
    },
    {
      "cell_type": "code",
      "source": [
        "# 1. Explain the purpose and advantages of NumPy in scientific computing and data analysis. How does it\n",
        "# enhance Python's capabilities for numerical operations?\n",
        "\n",
        "# NumPy (Numerical Python) is a fundamental library for scientific computing and data analysis in Python.\n",
        "# It provides powerful tools and functionalities for working with arrays and matrixes, enabling efficient numerical operations.\n",
        "\n",
        "# Here's a breakdown of its purpose and advantages:\n",
        "\n",
        "# a. Efficient Array Operations:\n",
        "#    - NumPy's core strength lies in its `ndarray` (n-dimensional array) object.\n",
        "#    - Unlike Python lists, which can store heterogeneous data types, NumPy arrays store homogeneous data, allowing for efficient storage and processing.\n",
        "#    - NumPy enables element-wise operations on arrays without the need for explicit loops, significantly improving performance for numerical calculations.\n",
        "#    - It facilitates vectorized operations, which operate on entire arrays simultaneously, resulting in concise and faster code.\n",
        "\n",
        "# b. Mathematical and Statistical Functions:\n",
        "#    - NumPy provides a comprehensive collection of mathematical functions (e.g., trigonometric, logarithmic, exponential, linear algebra) optimized for array operations.\n",
        "#    - It allows for statistical calculations, such as mean, median, standard deviation, and correlation, on arrays effortlessly.\n",
        "\n",
        "# c. Broadcasting:\n",
        "#    - Broadcasting enables operations between arrays with different shapes and sizes.\n",
        "#    - It automatically expands the smaller array to match the shape of the larger one, allowing element-wise calculations without explicitly replicating data.\n",
        "#    - This significantly reduces the need for manual array manipulation and enhances code readability.\n",
        "\n",
        "# d. Integration with Other Libraries:\n",
        "#    - NumPy serves as a cornerstone for many data science and machine learning libraries in Python, including Pandas, SciPy, and scikit-learn.\n",
        "#    - It facilitates seamless data exchange and integration between these libraries.\n",
        "\n",
        "# How NumPy enhances Python's capabilities for numerical operations:\n",
        "\n",
        "# - Performance: NumPy leverages optimized C code for array operations, making it significantly faster than using native Python lists or loops.\n",
        "# - Conciseness: It enables expressing complex numerical computations in a more concise and readable manner through vectorization and broadcasting.\n",
        "# - Functionality: NumPy provides a vast array of tools and functions specifically designed for numerical operations, expanding Python's capabilities in this domain.\n",
        "# - Ecosystem: It acts as a fundamental building block for a large ecosystem of scientific computing and data analysis libraries in Python.\n",
        "\n",
        "# In summary, NumPy is a crucial component for performing efficient numerical computations and data analysis in Python.\n",
        "# Its array operations, mathematical functions, broadcasting, and integration with other libraries empower researchers, data scientists, and engineers to handle large datasets and perform sophisticated calculations with ease.\n"
      ],
      "metadata": {
        "id": "YswE3HYLAyi4"
      },
      "execution_count": null,
      "outputs": []
    },
    {
      "cell_type": "code",
      "source": [
        "# 2. Compare and contrast np.mean() and np.average() functions in NumPy. When would you use one over the other?\n",
        "\n",
        "\n",
        "# np.mean() and np.average() are both used to calculate the average of an array in NumPy, but they differ in how they handle weights.\n",
        "\n",
        "# np.mean():\n",
        "# - Calculates the arithmetic mean of the array elements.\n",
        "# - It treats all elements equally without considering weights.\n",
        "\n",
        "# np.average():\n",
        "# - Calculates the weighted average of the array elements.\n",
        "# - Allows you to specify weights for each element, influencing their contribution to the overall average.\n",
        "\n",
        "# Here's a comparison:\n",
        "\n",
        "# | Feature        | np.mean()                               | np.average()                                     |\n",
        "# |----------------|-----------------------------------------|-------------------------------------------------|\n",
        "# | Weights        | No weights (all elements equal)         | Weights can be specified                          |\n",
        "# | Calculation    | Arithmetic mean                         | Weighted average                                  |\n",
        "# | Use Case       | Simple average of all elements          | Calculating average considering element importance |\n",
        "\n",
        "\n",
        "# When to use np.mean():\n",
        "\n",
        "# - When you want the simple average of all elements in the array.\n",
        "# - When you don't need to consider the relative importance of different elements.\n",
        "\n",
        "# When to use np.average():\n",
        "\n",
        "# - When you want a weighted average, where some elements have more influence than others.\n",
        "# - For example, in calculating a grade average where different assignments have different weights.\n",
        "\n",
        "\n"
      ],
      "metadata": {
        "id": "70JZZpccBOGd"
      },
      "execution_count": null,
      "outputs": []
    },
    {
      "cell_type": "code",
      "source": [],
      "metadata": {
        "id": "Es-LHKE7CrmB"
      },
      "execution_count": null,
      "outputs": []
    },
    {
      "cell_type": "code",
      "source": [
        "# 3. Describe the methods for reversing a NumPy array along different axes. Provide examples for 1D and 2D arrays.\n",
        "\n",
        "import numpy as np\n",
        "\n",
        "# Reversing a 1D array\n",
        "arr_1 = np.array([1, 2, 3, 4, 5])\n",
        "reversed_arr_1 = np.flip(arr_1)\n",
        "print(reversed_arr_1) #Outcome: [5,4,3,2,1]\n",
        "\n",
        "# Reversing a 2D array along axis 0 (rows)\n",
        "arr_2 = np.array([[1, 2, 3], [4, 5, 6], [7, 8, 9]])\n",
        "reversed_arr_2_axis0 = np.flip(arr_2, axis=0)\n",
        "print(reversed_arr_2_axis0) #Here the array is reversed along axis 0\n",
        "\n",
        "\n",
        "# Reversing a 2D array along axis 1 (columns)\n",
        "reversed_arr_2_axis1 = np.flip(arr_2, axis=1)\n",
        "print(reversed_arr_2_axis1) #Here the array is reversed along axis 1\n",
        "\n",
        "# Reversing a 2D array along both axes\n",
        "reversed_arr_2_both = np.flip(arr_2)\n",
        "print(reversed_arr_2_both) #Here the array is reversed along both axes"
      ],
      "metadata": {
        "colab": {
          "base_uri": "https://localhost:8080/"
        },
        "id": "09gvFZaiBzJM",
        "outputId": "dd68a8b8-10d6-406d-8db0-967833bf836d"
      },
      "execution_count": null,
      "outputs": [
        {
          "output_type": "stream",
          "name": "stdout",
          "text": [
            "[5 4 3 2 1]\n",
            "[[7 8 9]\n",
            " [4 5 6]\n",
            " [1 2 3]]\n",
            "[[3 2 1]\n",
            " [6 5 4]\n",
            " [9 8 7]]\n",
            "[[9 8 7]\n",
            " [6 5 4]\n",
            " [3 2 1]]\n"
          ]
        }
      ]
    },
    {
      "cell_type": "code",
      "source": [
        "# 4. How can you determine the data type of elements in a NumPy array? Discuss the importance of data types\n",
        "# in memory management and performance.\n",
        "\n",
        "\n",
        "# Determining Data Type:\n",
        "\n",
        "# You can determine the data type of elements in a NumPy array using the `dtype` attribute.\n",
        "\n",
        "import numpy as np\n",
        "\n",
        "arr1 = np.array([1, 2, 3, 4, 5])\n",
        "print(arr1.dtype)  # Output: int64\n",
        "\n",
        "\n",
        "# Importance of Data Types:\n",
        "\n",
        "# Data types play a crucial role in memory management and performance in NumPy:\n",
        "\n",
        "# a. Memory Allocation:\n",
        "\n",
        "# - Each data type has a specific size in memory (e.g., int32 occupies 4 bytes per element).\n",
        "# - When you create a NumPy array, the system allocates memory based on the specified data type and the number of elements.\n",
        "# - Choosing the appropriate data type allows for efficient memory usage and reduces unnecessary memory consumption.\n",
        "\n",
        "# b. Performance:\n",
        "\n",
        "# - Data types impact the speed of computations performed on the array.\n",
        "# - NumPy's optimized routines are tailored to specific data types, resulting in faster execution.\n",
        "# - Using a smaller data type (e.g., int16 instead of int64) when the range of values allows it can improve performance, especially for large arrays.\n",
        "\n",
        "# c. Accuracy:\n",
        "\n",
        "# - Data types determine the precision with which values are stored.\n",
        "# - Floating-point data types (e.g., float32, float64) allow for storing fractional numbers with varying levels of precision.\n",
        "# - Choosing the appropriate data type ensures that calculations maintain the desired level of accuracy.\n",
        "\n",
        "# Example:\n",
        "\n",
        "# For example, if you are dealing with pixel values in an image, you might choose the uint8 data type because pixel values generally range from 0 to 255.\n",
        "# Using this data type instead of int64 will significantly reduce memory usage and potentially improve performance when processing the image.\n",
        "\n",
        "\n",
        "# Summary:\n",
        "\n",
        "# Data types in NumPy are essential for efficient memory management and performance.\n",
        "# By choosing the right data type, you can optimize storage, improve the speed of computations, and enhance the accuracy of your numerical analysis and data processing tasks.\n"
      ],
      "metadata": {
        "colab": {
          "base_uri": "https://localhost:8080/"
        },
        "id": "mHfhGwWbEmOh",
        "outputId": "e1b9c4ac-1510-45a7-d6d4-f8238189b946"
      },
      "execution_count": null,
      "outputs": [
        {
          "output_type": "stream",
          "name": "stdout",
          "text": [
            "int64\n"
          ]
        }
      ]
    },
    {
      "cell_type": "code",
      "source": [
        "# 5. Define ndarrays in NumPy and explain their key features. How do they differ from standard Python lists?\n",
        "\n",
        "\n",
        "# ndarrays (N-dimensional arrays) are the fundamental data structures in NumPy.\n",
        "# They are homogeneous multidimensional arrays that store elements of the same data type.\n",
        "\n",
        "# Key Features:\n",
        "\n",
        "# a. Homogeneous Data Type: Unlike Python lists, which can store different data types in a single list, ndarrays require all elements to have the same data type. This allows for efficient storage and processing.\n",
        "\n",
        "# b. Fixed Size: Once created, the size of an ndarray is fixed. You can't directly append or remove elements like you can with lists.\n",
        "\n",
        "# c. Vectorized Operations: ndarrays support element-wise operations, meaning operations are performed on entire arrays simultaneously, eliminating the need for explicit loops.\n",
        "\n",
        "# d. Broadcasting: ndarrays enable operations between arrays of different shapes and sizes. The smaller array is automatically \"broadcasted\" to match the shape of the larger array, allowing for efficient element-wise calculations.\n",
        "\n",
        "# e. Memory Efficiency: NumPy arrays are typically more memory-efficient than Python lists, especially for large datasets.\n",
        "\n",
        "# f. Multidimensional: ndarrays can have multiple dimensions (e.g., 1D, 2D, 3D, etc.). This allows them to represent matrices, tensors, and other complex data structures.\n",
        "\n",
        "# How they differ from standard Python lists:\n",
        "\n",
        "# | Feature               | ndarray                                  | Python list                                  |\n",
        "# |-----------------------|-------------------------------------------|----------------------------------------------|\n",
        "# | Data Type             | Homogeneous (same data type)             | Heterogeneous (different data types allowed) |\n",
        "# | Size                  | Fixed                                      | Dynamic (can grow/shrink)                    |\n",
        "# | Operations            | Vectorized, element-wise                  | Iterative, element-by-element                 |\n",
        "# | Memory Efficiency      | More efficient for large datasets         | Less efficient for large datasets             |\n",
        "# | Multidimensional       | Supports multiple dimensions (N-D)       | Limited to 1 dimension                        |\n",
        "# | Performance           | Generally faster for numerical operations | Slower for numerical operations               |\n",
        "\n"
      ],
      "metadata": {
        "id": "gx6D5bVmE8u5"
      },
      "execution_count": null,
      "outputs": []
    },
    {
      "cell_type": "code",
      "source": [
        "#6. Analyze the performance benefits of NumPy arrays over Python lists for large-scale numerical operations.\n",
        "# When working with large numerical operations in Python, Numpy offers significant performance advantages over traditional Python lists.\n",
        "# Let's explore this aspect\n",
        "# NumPy arrays are designed to be memory efficient, storing data in a contiguous block of memory. This allows for faster access and reduces memory overhead.\n",
        "# Also NumPy's broadcasting mechanism allows for automatic shape inferernce and alignment of arrays during operations,\n",
        "# which can lead to more concise.\n",
        "# And it offers specialized data types for numerical operations, such as numpy.int64, numpy.float32 etc. These data types are optimized for arithmetic\n",
        "# operations and memory usage.\n",
        "# Conclusion:\n",
        "# So Numpy offers a substantial performance advantage over Python lists for large scale numerical operations.\n"
      ],
      "metadata": {
        "id": "8PF1yOd4FuO2"
      },
      "execution_count": null,
      "outputs": []
    },
    {
      "cell_type": "code",
      "source": [
        "# 7. Compare vstack() and hstack() functions in NumPy. Provide examples demonstrating their usage and\n",
        "# output.\n",
        "\n",
        "import numpy as np\n",
        "\n",
        "# vstack()\n",
        "\n",
        "# vstack() is used to stack arrays vertically, meaning it combines arrays along the row axis (axis=0).\n",
        "# This results in a new array with rows from the input arrays concatenated together.\n",
        "\n",
        "arr1 = np.array([1, 2, 3])\n",
        "arr2 = np.array([4, 5, 6])\n",
        "\n",
        "vertical_stack = np.vstack((arr1, arr2))\n",
        "print(\"vstack output:\\n\", vertical_stack)\n",
        "\n",
        "\n",
        "# hstack()\n",
        "\n",
        "# hstack() is used to stack arrays horizontally, meaning it combines arrays along the column axis (axis=1).\n",
        "# This results in a new array with columns from the input arrays concatenated together.\n",
        "\n",
        "arr3 = np.array([[1], [2], [3]])\n",
        "arr4 = np.array([[4], [5], [6]])\n",
        "\n",
        "horizontal_stack = np.hstack((arr3, arr4))\n",
        "print(\"hstack output:\\n\", horizontal_stack)\n"
      ],
      "metadata": {
        "colab": {
          "base_uri": "https://localhost:8080/"
        },
        "id": "YxoUISAcKkiG",
        "outputId": "51e07276-ac43-4788-9c65-27cc1cd8e3d1"
      },
      "execution_count": null,
      "outputs": [
        {
          "output_type": "stream",
          "name": "stdout",
          "text": [
            "vstack output:\n",
            " [[1 2 3]\n",
            " [4 5 6]]\n",
            "hstack output:\n",
            " [[1 4]\n",
            " [2 5]\n",
            " [3 6]]\n"
          ]
        }
      ]
    },
    {
      "cell_type": "code",
      "source": [
        "# 8. Explain the differences between fliplr() and flipud() methods in NumPy, including their effects on various\n",
        "# array dimensions.\n",
        "\n",
        "import numpy as np\n",
        "\n",
        "# fliplr() and flipud() are NumPy functions used to flip arrays along their horizontal and vertical axes, respectively.\n",
        "\n",
        "# fliplr() (Flip Left-Right):\n",
        "\n",
        "#   - Flips the array along the horizontal axis (axis=1).\n",
        "#   - It reverses the order of columns in the array.\n",
        "#   - For a 2D array, it mirrors the array along its vertical centerline.\n",
        "\n",
        "# flipud() (Flip Up-Down):\n",
        "\n",
        "#   - Flips the array along the vertical axis (axis=0).\n",
        "#   - It reverses the order of rows in the array.\n",
        "#   - For a 2D array, it mirrors the array along its horizontal centerline.\n",
        "\n",
        "# Example:\n",
        "\n",
        "arr = np.array([[1, 2, 3],\n",
        "              [4, 5, 6],\n",
        "              [7, 8, 9]])\n",
        "\n",
        "# Flipping horizontally (fliplr)\n",
        "flipped_lr = np.fliplr(arr)\n",
        "print(\"Flipped Left-Right:\\n\", flipped_lr)\n",
        "\n",
        "\n",
        "# Flipping vertically (flipud)\n",
        "flipped_ud = np.flipud(arr)\n",
        "print(\"Flipped Up-Down:\\n\", flipped_ud)\n",
        "\n",
        "\n",
        "# Effects on various array dimensions:\n",
        "\n",
        "#   - 1D Arrays:\n",
        "#     - Both fliplr() and flipud() essentially reverse the order of elements in a 1D array.\n",
        "\n",
        "#   - 2D Arrays:\n",
        "#     - fliplr() reverses the columns.\n",
        "#     - flipud() reverses the rows.\n",
        "\n",
        "#   - Higher Dimensional Arrays:\n",
        "#     - The flipping effect applies along the specified axis (axis=1 for fliplr(), axis=0 for flipud()).\n"
      ],
      "metadata": {
        "colab": {
          "base_uri": "https://localhost:8080/"
        },
        "id": "fbWRy2pmKxQ1",
        "outputId": "4d05cc9b-8650-4a2c-c107-15cd345374a4"
      },
      "execution_count": null,
      "outputs": [
        {
          "output_type": "stream",
          "name": "stdout",
          "text": [
            "Flipped Left-Right:\n",
            " [[3 2 1]\n",
            " [6 5 4]\n",
            " [9 8 7]]\n",
            "Flipped Up-Down:\n",
            " [[7 8 9]\n",
            " [4 5 6]\n",
            " [1 2 3]]\n"
          ]
        }
      ]
    },
    {
      "cell_type": "code",
      "source": [
        "# 9. Discuss the functionality of the array_split() method in NumPy. How does it handle uneven splits?\n",
        "\n",
        "import numpy as np\n",
        "\n",
        "# array_split() Functionality:\n",
        "\n",
        "# The array_split() method in NumPy is used to split an array into multiple sub-arrays along a specified axis.\n",
        "# It allows you to divide an array into a desired number of sub-arrays, even if the array cannot be divided evenly.\n",
        "\n",
        "\n",
        "# Example: Even Split\n",
        "\n",
        "arr = np.arange(10)\n",
        "sub_arrays = np.array_split(arr, 5)\n",
        "print(\"Even split into 5 sub-arrays:\", sub_arrays)\n",
        "\n",
        "# Example: Uneven Split\n",
        "\n",
        "arr = np.arange(11)\n",
        "sub_arrays = np.array_split(arr, 3)\n",
        "print(\"\\nUneven split into 3 sub-arrays:\", sub_arrays)\n",
        "\n",
        "# Handling Uneven Splits:\n",
        "\n",
        "# If the array cannot be divided into equal-sized sub-arrays, array_split() handles this by distributing the remaining elements across the resulting sub-arrays.\n",
        "# The earlier sub-arrays will have one extra element than the last if the split is not even.\n",
        "\n",
        "# In summary, the array_split() method provides flexibility for splitting arrays, even when the desired number of splits does not result in equal-sized sub-arrays.\n",
        "# It intelligently distributes the remaining elements to ensure that the entire array is included in the resulting sub-arrays.\n"
      ],
      "metadata": {
        "colab": {
          "base_uri": "https://localhost:8080/"
        },
        "id": "ICg62wQ4K8Ul",
        "outputId": "282ee232-b1f4-4b13-f35d-91633eece2f1"
      },
      "execution_count": null,
      "outputs": [
        {
          "output_type": "stream",
          "name": "stdout",
          "text": [
            "Even split into 5 sub-arrays: [array([0, 1]), array([2, 3]), array([4, 5]), array([6, 7]), array([8, 9])]\n",
            "\n",
            "Uneven split into 3 sub-arrays: [array([0, 1, 2, 3]), array([4, 5, 6, 7]), array([ 8,  9, 10])]\n"
          ]
        }
      ]
    },
    {
      "cell_type": "code",
      "source": [
        "# prompt: 10. Explain the concepts of vectorization and broadcasting in NumPy. How do they contribute to efficient array\n",
        "# operations?\n",
        "\n",
        "# 10. Explain the concepts of vectorization and broadcasting in NumPy. How do they contribute to efficient array\n",
        "# operations?\n",
        "\n",
        "\n",
        "# Vectorization:\n",
        "\n",
        "# Vectorization is a powerful technique in NumPy that allows you to perform operations on entire arrays without explicit loops.\n",
        "# Instead of iterating through elements individually, vectorized operations apply the operation to the entire array simultaneously.\n",
        "\n",
        "# Example:\n",
        "\n",
        "import numpy as np\n",
        "\n",
        "arr1 = np.array([1, 2, 3, 4, 5])\n",
        "arr2 = np.array([6, 7, 8, 9, 10])\n",
        "\n",
        "# Element-wise addition using vectorization\n",
        "result = arr1 + arr2\n",
        "print(\"Vectorized addition:\", result)\n",
        "\n",
        "\n",
        "# Broadcasting:\n",
        "\n",
        "# Broadcasting is a set of rules that allows NumPy to perform operations on arrays with different shapes and sizes.\n",
        "# It automatically expands the smaller array to match the shape of the larger array, enabling element-wise calculations without explicit replication of data.\n",
        "\n",
        "# Example:\n",
        "\n",
        "arr3 = np.array([[1, 2, 3],\n",
        "                [4, 5, 6]])\n",
        "b = 2\n",
        "\n",
        "# Broadcasting multiplication\n",
        "result = arr3 * b\n",
        "print(\"Broadcasting multiplication:\", result)\n",
        "\n",
        "# How They Contribute to Efficiency:\n",
        "\n",
        "# a. Performance:\n",
        "#    - Vectorized operations and broadcasting are significantly faster than using explicit loops in Python.\n",
        "#    - NumPy leverages optimized C code for these operations, making them highly efficient.\n",
        "\n",
        "# b. Conciseness:\n",
        "#    - Vectorization and broadcasting enable expressing complex numerical operations in a more concise and readable manner.\n",
        "#    - They eliminate the need for manual element-wise iteration, leading to cleaner code.\n",
        "\n",
        "# c. Memory Efficiency:\n",
        "#    - Broadcasting avoids unnecessary data replication, which can consume significant memory, particularly for large arrays.\n",
        "#    - It allows for efficient calculations without creating intermediate arrays unnecessarily.\n",
        "\n",
        "# In Summary:\n",
        "\n",
        "# Vectorization and broadcasting are fundamental techniques in NumPy that enable efficient array operations.\n",
        "# They contribute to improved performance, code conciseness, and memory efficiency, making NumPy a powerful tool for numerical computations and data analysis.\n"
      ],
      "metadata": {
        "colab": {
          "base_uri": "https://localhost:8080/"
        },
        "id": "3zgtqls3Lg6L",
        "outputId": "3a79d56d-99b5-4db3-9797-529fc3157e14"
      },
      "execution_count": null,
      "outputs": [
        {
          "output_type": "stream",
          "name": "stdout",
          "text": [
            "Vectorized addition: [ 7  9 11 13 15]\n",
            "Broadcasting multiplication: [[ 2  4  6]\n",
            " [ 8 10 12]]\n"
          ]
        }
      ]
    },
    {
      "cell_type": "code",
      "source": [
        "#PRACTICAL QUESTIONS"
      ],
      "metadata": {
        "id": "CHybL7nwMtE6"
      },
      "execution_count": null,
      "outputs": []
    },
    {
      "cell_type": "code",
      "source": [
        "# 1. Create a 3x3 NumPy array with random integers between 1 and 100. Then, interchange its rows and columns\n",
        "\n",
        "import numpy as np\n",
        "\n",
        "# Create a 3x3 NumPy array with random integers between 1 and 100\n",
        "arr = np.random.randint(1, 100, size=(3, 3))\n",
        "\n",
        "print(\"Original Array:\\n\", arr)\n",
        "\n",
        "# Interchange rows and columns\n",
        "arr_transposed = arr.transpose()\n",
        "\n",
        "print(\"\\nArray with Interchanged Rows and Columns:\\n\", arr_transposed)\n"
      ],
      "metadata": {
        "colab": {
          "base_uri": "https://localhost:8080/"
        },
        "id": "chngZGwlMz13",
        "outputId": "36f7ca26-fb89-4ac0-a002-fdb416de0279"
      },
      "execution_count": null,
      "outputs": [
        {
          "output_type": "stream",
          "name": "stdout",
          "text": [
            "Original Array:\n",
            " [[46 10  2]\n",
            " [83 13 71]\n",
            " [24 90 65]]\n",
            "\n",
            "Array with Interchanged Rows and Columns:\n",
            " [[46 83 24]\n",
            " [10 13 90]\n",
            " [ 2 71 65]]\n"
          ]
        }
      ]
    },
    {
      "cell_type": "code",
      "source": [
        "# 2. Generate a 1D NumPy array with 10 elements. Reshape it into a 2x5 array, then into a 5x2 array.\n",
        "\n",
        "import numpy as np\n",
        "\n",
        "# Generate a 1D NumPy array with 10 elements\n",
        "arr = np.arange(10)\n",
        "\n",
        "# Reshape it into a 2x5 array\n",
        "arr_2x5 = arr.reshape(2, 5)\n",
        "print(\"2x5 array:\", arr_2x5)\n",
        "\n",
        "# Reshape it into a 5x2 array\n",
        "arr_5x2 = arr.reshape(5, 2)\n",
        "print(\"5x2 array:\", arr_5x2)\n"
      ],
      "metadata": {
        "colab": {
          "base_uri": "https://localhost:8080/"
        },
        "id": "3Wh_6hRWM7EO",
        "outputId": "189efac8-ba5a-4f42-81f5-b6ca91809c0b"
      },
      "execution_count": null,
      "outputs": [
        {
          "output_type": "stream",
          "name": "stdout",
          "text": [
            "2x5 array: [[0 1 2 3 4]\n",
            " [5 6 7 8 9]]\n",
            "5x2 array: [[0 1]\n",
            " [2 3]\n",
            " [4 5]\n",
            " [6 7]\n",
            " [8 9]]\n"
          ]
        }
      ]
    },
    {
      "cell_type": "code",
      "source": [
        "# 3. Create a 4x4 NumPy array with random float values. Add a border of zeros around it, resulting in a 6x6 array.\n",
        "\n",
        "import numpy as np\n",
        "\n",
        "# Create a 4x4 NumPy array with random float values\n",
        "arr = np.random.rand(4, 4)\n",
        "\n",
        "# Add a border of zeros around it\n",
        "bordered_arr = np.pad(arr, pad_width=1, mode='constant', constant_values=0)\n",
        "\n",
        "print(\"Original Array:\\n\", arr)\n",
        "print(\"\\nArray with Zero Border:\\n\", bordered_arr)\n"
      ],
      "metadata": {
        "colab": {
          "base_uri": "https://localhost:8080/"
        },
        "id": "nwCDx_0fNLuO",
        "outputId": "0b9671b1-c7b4-4ca7-cf4b-0b9b04bdd41b"
      },
      "execution_count": null,
      "outputs": [
        {
          "output_type": "stream",
          "name": "stdout",
          "text": [
            "Original Array:\n",
            " [[0.14068932 0.70860776 0.53907099 0.60367167]\n",
            " [0.04085621 0.04401192 0.2071238  0.29784333]\n",
            " [0.67056354 0.91264677 0.19260197 0.97306402]\n",
            " [0.11156798 0.8769091  0.7776981  0.83806379]]\n",
            "\n",
            "Array with Zero Border:\n",
            " [[0.         0.         0.         0.         0.         0.        ]\n",
            " [0.         0.14068932 0.70860776 0.53907099 0.60367167 0.        ]\n",
            " [0.         0.04085621 0.04401192 0.2071238  0.29784333 0.        ]\n",
            " [0.         0.67056354 0.91264677 0.19260197 0.97306402 0.        ]\n",
            " [0.         0.11156798 0.8769091  0.7776981  0.83806379 0.        ]\n",
            " [0.         0.         0.         0.         0.         0.        ]]\n"
          ]
        }
      ]
    },
    {
      "cell_type": "code",
      "source": [
        "# 4. Using NumPy, create an array of integers from 10 to 60 with a step of 5.\n",
        "\n",
        "import numpy as np\n",
        "\n",
        "array_with_step = np.arange(10, 60, 5)\n",
        "print(array_with_step)\n"
      ],
      "metadata": {
        "id": "gp_48zdbN5_T",
        "colab": {
          "base_uri": "https://localhost:8080/"
        },
        "outputId": "aa6b5758-8091-4186-9664-3e142e023162"
      },
      "execution_count": 1,
      "outputs": [
        {
          "output_type": "stream",
          "name": "stdout",
          "text": [
            "[10 15 20 25 30 35 40 45 50 55]\n"
          ]
        }
      ]
    },
    {
      "cell_type": "code",
      "source": [
        "# 5. Create a NumPy array of strings ['python', 'numpy', 'pandas']. Apply different case transformations\n",
        "# (uppercase, lowercase, title case, etc.) to each element.\n",
        "\n",
        "import numpy as np\n",
        "\n",
        "# Create a NumPy array of strings\n",
        "string_array = np.array(['python', 'numpy', 'pandas'])\n",
        "\n",
        "# Apply different case transformations\n",
        "\n",
        "# Uppercase\n",
        "uppercase_array = np.char.upper(string_array)\n",
        "print(\"Uppercase:\", uppercase_array)\n",
        "\n",
        "# Lowercase\n",
        "lowercase_array = np.char.lower(string_array)\n",
        "print(\"Lowercase:\", lowercase_array)\n",
        "\n",
        "# Titlecase\n",
        "titlecase_array = np.char.title(string_array)\n",
        "print(\"Titlecase:\", titlecase_array)\n",
        "\n",
        "# Swapcase\n",
        "swapcase_array = np.char.swapcase(string_array)\n",
        "print(\"Swapcase:\", swapcase_array)\n"
      ],
      "metadata": {
        "colab": {
          "base_uri": "https://localhost:8080/"
        },
        "id": "i9oW4xw5rZ7X",
        "outputId": "baafdf41-d070-41f3-e4ee-dce4474a1e5c"
      },
      "execution_count": 2,
      "outputs": [
        {
          "output_type": "stream",
          "name": "stdout",
          "text": [
            "Uppercase: ['PYTHON' 'NUMPY' 'PANDAS']\n",
            "Lowercase: ['python' 'numpy' 'pandas']\n",
            "Titlecase: ['Python' 'Numpy' 'Pandas']\n",
            "Swapcase: ['PYTHON' 'NUMPY' 'PANDAS']\n"
          ]
        }
      ]
    },
    {
      "cell_type": "code",
      "source": [
        "# 6. Generate a NumPy array of words. Insert a space between each character of every word in the array\n",
        "\n",
        "import numpy as np\n",
        "\n",
        "words = np.array(['hello', 'world', 'numpy'])\n",
        "\n",
        "# Insert a space between each character of every word\n",
        "spaced_words = np.char.join(' ', words)\n",
        "\n",
        "print(spaced_words)\n"
      ],
      "metadata": {
        "colab": {
          "base_uri": "https://localhost:8080/"
        },
        "id": "x2Dqz7Dqrmc0",
        "outputId": "5197643b-56b9-45b9-8e7d-2b309f5fcce9"
      },
      "execution_count": 3,
      "outputs": [
        {
          "output_type": "stream",
          "name": "stdout",
          "text": [
            "['h e l l o' 'w o r l d' 'n u m p y']\n"
          ]
        }
      ]
    },
    {
      "cell_type": "code",
      "source": [
        "# 7. Create two 2D NumPy arrays and perform element-wise addition, subtraction, multiplication, and division.\n",
        "\n",
        "import numpy as np\n",
        "\n",
        "# Create two 2D NumPy arrays\n",
        "arr1 = np.array([[1, 2, 3],\n",
        "                 [4, 5, 6]])\n",
        "arr2 = np.array([[7, 8, 9],\n",
        "                 [10, 11, 12]])\n",
        "\n",
        "# Element-wise addition\n",
        "addition_result = arr1 + arr2\n",
        "print(\"Element-wise Addition:\", addition_result)\n",
        "\n",
        "# Element-wise subtraction\n",
        "subtraction_result = arr1 - arr2\n",
        "print(\"Element-wise Subtraction:\", subtraction_result)\n",
        "\n",
        "# Element-wise multiplication\n",
        "multiplication_result = arr1 * arr2\n",
        "print(\"Element-wise Multiplication:\", multiplication_result)\n",
        "\n",
        "# Element-wise division\n",
        "division_result = arr1 / arr2\n",
        "print(\"Element-wise Division:\", division_result)\n"
      ],
      "metadata": {
        "colab": {
          "base_uri": "https://localhost:8080/"
        },
        "id": "zj9hNieFsUmy",
        "outputId": "f28d4672-89ee-4b9c-fff5-7a51f8c11de4"
      },
      "execution_count": 5,
      "outputs": [
        {
          "output_type": "stream",
          "name": "stdout",
          "text": [
            "Element-wise Addition: [[ 8 10 12]\n",
            " [14 16 18]]\n",
            "Element-wise Subtraction: [[-6 -6 -6]\n",
            " [-6 -6 -6]]\n",
            "Element-wise Multiplication: [[ 7 16 27]\n",
            " [40 55 72]]\n",
            "Element-wise Division: [[0.14285714 0.25       0.33333333]\n",
            " [0.4        0.45454545 0.5       ]]\n"
          ]
        }
      ]
    },
    {
      "cell_type": "code",
      "source": [
        "# 8. Use NumPy to create a 5x5 identity matrix, then extract its diagonal elements\n",
        "\n",
        "import numpy as np\n",
        "\n",
        "# Create a 5x5 identity matrix\n",
        "identity_matrix = np.identity(5)\n",
        "\n",
        "# Extract the diagonal elements\n",
        "diagonal_elements = np.diag(identity_matrix)\n",
        "\n",
        "print(\"Identity Matrix:\", identity_matrix)\n",
        "print(\"Diagonal Elements:\", diagonal_elements)\n"
      ],
      "metadata": {
        "colab": {
          "base_uri": "https://localhost:8080/"
        },
        "id": "VDVj7bM1so8w",
        "outputId": "d4156bf8-503d-46e6-ccb2-4219558992e3"
      },
      "execution_count": 6,
      "outputs": [
        {
          "output_type": "stream",
          "name": "stdout",
          "text": [
            "Identity Matrix: [[1. 0. 0. 0. 0.]\n",
            " [0. 1. 0. 0. 0.]\n",
            " [0. 0. 1. 0. 0.]\n",
            " [0. 0. 0. 1. 0.]\n",
            " [0. 0. 0. 0. 1.]]\n",
            "Diagonal Elements: [1. 1. 1. 1. 1.]\n"
          ]
        }
      ]
    },
    {
      "cell_type": "code",
      "source": [
        "# 9. Generate a NumPy array of 100 random integers between 0 and 1000. Find and display all prime numbers in this array.\n",
        "\n",
        "import numpy as np\n",
        "\n",
        "# Generate a NumPy array of 100 random integers between 0 and 1000\n",
        "random_integers = np.random.randint(0, 1000, size=100)\n",
        "\n",
        "def is_prime(n):\n",
        "  if n <= 1:\n",
        "    return False\n",
        "  if n <= 3:\n",
        "    return True\n",
        "  if n % 2 == 0 or n % 3 == 0:\n",
        "    return False\n",
        "  i = 5\n",
        "  while i * i <= n:\n",
        "    if n % i == 0 or n % (i + 2) == 0:\n",
        "      return False\n",
        "    i = i + 6\n",
        "  return True\n",
        "\n",
        "# Find and display all prime numbers in this array\n",
        "prime_numbers = [num for num in random_integers if is_prime(num)]\n",
        "print(\"Prime numbers in the array:\", prime_numbers)\n",
        "\n",
        "\n"
      ],
      "metadata": {
        "colab": {
          "base_uri": "https://localhost:8080/"
        },
        "id": "jaVdjMj2t_u7",
        "outputId": "dfba8fc6-0fe0-458e-f599-cc46c7f49e93"
      },
      "execution_count": 22,
      "outputs": [
        {
          "output_type": "stream",
          "name": "stdout",
          "text": [
            "Prime numbers in the array: [83, 997, 941, 467, 241, 761, 809, 719, 941, 929, 13, 193, 863, 773, 439, 151, 193, 457, 491, 43, 283, 53]\n"
          ]
        }
      ]
    },
    {
      "cell_type": "code",
      "source": [
        "# 10. Create a NumPy array representing daily temperatures for a month. Calculate and display the weekly\n",
        "# averages.\n",
        "\n",
        "import numpy as np\n",
        "\n",
        "# Create a NumPy array representing daily temperatures for a month (30 days)\n",
        "daily_temperatures = np.random.randint(15, 40, size=30)\n",
        "\n",
        "# Calculate weekly averages\n",
        "weekly_averages = []\n",
        "for i in range(0, 30, 7):\n",
        "  week_temperatures = daily_temperatures[i:i+7]\n",
        "  weekly_average = np.mean(week_temperatures)\n",
        "  weekly_averages.append(weekly_average)\n",
        "\n",
        "print(\"Daily Temperatures:\", daily_temperatures)\n",
        "print(\"Weekly Averages:\", weekly_averages)\n"
      ],
      "metadata": {
        "colab": {
          "base_uri": "https://localhost:8080/"
        },
        "id": "YhgHbKR7tiDf",
        "outputId": "4f18b5cb-224a-44de-bbca-59c08ba4183b"
      },
      "execution_count": 12,
      "outputs": [
        {
          "output_type": "stream",
          "name": "stdout",
          "text": [
            "Daily Temperatures: [35 37 19 35 24 17 28 35 34 28 17 37 38 20 37 26 30 36 25 39 25 32 29 39\n",
            " 28 29 33 27 33 27]\n",
            "Weekly Averages: [27.857142857142858, 29.857142857142858, 31.142857142857142, 31.0, 30.0]\n"
          ]
        }
      ]
    },
    {
      "cell_type": "code",
      "source": [],
      "metadata": {
        "id": "52DX_ubNvTFn"
      },
      "execution_count": null,
      "outputs": []
    }
  ]
}